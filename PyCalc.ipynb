{
  "nbformat": 4,
  "nbformat_minor": 0,
  "metadata": {
    "colab": {
      "name": "PyCalc.ipynb",
      "provenance": [],
      "private_outputs": true,
      "authorship_tag": "ABX9TyOv0Afo2nUuEQlwBMRwRmos",
      "include_colab_link": true
    },
    "kernelspec": {
      "name": "python3",
      "display_name": "Python 3"
    }
  },
  "cells": [
    {
      "cell_type": "markdown",
      "metadata": {
        "id": "view-in-github",
        "colab_type": "text"
      },
      "source": [
        "<a href=\"https://colab.research.google.com/github/swapniljha001/calculator/blob/master/PyCalc.ipynb\" target=\"_parent\"><img src=\"https://colab.research.google.com/assets/colab-badge.svg\" alt=\"Open In Colab\"/></a>"
      ]
    },
    {
      "cell_type": "markdown",
      "metadata": {
        "id": "xTIAYxAK7JsH"
      },
      "source": [
        "# A simple Python Calculator"
      ]
    },
    {
      "cell_type": "markdown",
      "metadata": {
        "id": "r50eZN1S6wAD"
      },
      "source": [
        "### This function adds two numbers"
      ]
    },
    {
      "cell_type": "code",
      "metadata": {
        "id": "00U_RJYw6tD0"
      },
      "source": [
        "def add(x, y):\n",
        "    return x + y"
      ],
      "execution_count": null,
      "outputs": []
    },
    {
      "cell_type": "markdown",
      "metadata": {
        "id": "9bZ3vJUa61Dy"
      },
      "source": [
        "### This function subtracts two numbers"
      ]
    },
    {
      "cell_type": "code",
      "metadata": {
        "id": "aSW8sKkY61Lg"
      },
      "source": [
        "def subtract(x, y):\n",
        "    return x - y"
      ],
      "execution_count": null,
      "outputs": []
    },
    {
      "cell_type": "markdown",
      "metadata": {
        "id": "RVe70Vd765rN"
      },
      "source": [
        "### This function multiplies two numbers"
      ]
    },
    {
      "cell_type": "code",
      "metadata": {
        "id": "I9LWmvVu650U"
      },
      "source": [
        "def multiply(x, y):\n",
        "    return x * y"
      ],
      "execution_count": null,
      "outputs": []
    },
    {
      "cell_type": "markdown",
      "metadata": {
        "id": "UHnq21O47A-d"
      },
      "source": [
        "### This function divides two numbers"
      ]
    },
    {
      "cell_type": "code",
      "metadata": {
        "id": "HefDcwIF6_z0"
      },
      "source": [
        "def divide(x, y):\n",
        "    return x / y"
      ],
      "execution_count": null,
      "outputs": []
    },
    {
      "cell_type": "markdown",
      "metadata": {
        "id": "pOlooESA7N09"
      },
      "source": [
        "### Textual Body"
      ]
    },
    {
      "cell_type": "code",
      "metadata": {
        "id": "BFBNlieJ7QfF"
      },
      "source": [
        "print(\"Select operation.\")\n",
        "print(\"1.Add\")\n",
        "print(\"2.Subtract\")\n",
        "print(\"3.Multiply\")\n",
        "print(\"4.Divide\")"
      ],
      "execution_count": null,
      "outputs": []
    },
    {
      "cell_type": "markdown",
      "metadata": {
        "id": "Ybxii0rL7Uzc"
      },
      "source": [
        "### While Loop"
      ]
    },
    {
      "cell_type": "code",
      "metadata": {
        "id": "1goe6qx77W0E"
      },
      "source": [
        "while True:\n",
        "    # Take input from the user\n",
        "    choice = input(\"Enter choice(1/2/3/4): \")\n",
        "\n",
        "    # Check if choice is one of the four options\n",
        "    if choice in ('1', '2', '3', '4'):\n",
        "        num1 = float(input(\"Enter first number: \"))\n",
        "        num2 = float(input(\"Enter second number: \"))\n",
        "\n",
        "        if choice == '1':\n",
        "            print(num1, \"+\", num2, \"=\", add(num1, num2))\n",
        "\n",
        "        elif choice == '2':\n",
        "            print(num1, \"-\", num2, \"=\", subtract(num1, num2))\n",
        "\n",
        "        elif choice == '3':\n",
        "            print(num1, \"*\", num2, \"=\", multiply(num1, num2))\n",
        "\n",
        "        elif choice == '4':\n",
        "            print(num1, \"/\", num2, \"=\", divide(num1, num2))\n",
        "        break\n",
        "        \n",
        "    else:\n",
        "        print(\"Invalid Input\")"
      ],
      "execution_count": null,
      "outputs": []
    }
  ]
}